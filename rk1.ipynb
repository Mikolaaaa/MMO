{
 "cells": [
  {
   "cell_type": "markdown",
   "source": [
    "# Рубежный контроль №1: Методы обработки данных\n",
    "\n",
    "**Курс**: Методы машинного обучения Программа: **Магистратура**, 2 семестр (Весна 2025)\n",
    "\n",
    "**Выполнил**: Поддубный Михаил Николаевич\n",
    "\n",
    "**Группа**: ИУ5-22М\n",
    "\n",
    "**Вариант**: 8"
   ],
   "metadata": {
    "collapsed": false
   }
  },
  {
   "cell_type": "markdown",
   "source": [
    "## Задание\n",
    "\n",
    "**Вариант 8:**\n",
    "\n",
    "**Задача №8.**\n",
    "\n",
    "Для набора данных проведите устранение пропусков для одного (произвольного) числового признака с использованием метода заполнения модой.\n",
    "\n",
    "**Задача №28.**\n",
    "\n",
    "Для набора данных для одного (произвольного) числового признака проведите обнаружение и замену (найденными верхними и нижними границами) выбросов на основе межквартильного размаха."
   ],
   "metadata": {
    "collapsed": false
   }
  },
  {
   "cell_type": "markdown",
   "source": [
    "# 1. Подготовка данных и библиотек\n",
    "\n",
    "Набор данных **planets** содержит информацию об экзопланетах, обнаруженных разными астрономическими методами. Он подходит для анализа числовых признаков и визуализации, так как содержит как числовые (масса планеты, орбитальный период), так и категориальные признаки (метод обнаружения, год)."
   ],
   "metadata": {
    "collapsed": false
   }
  },
  {
   "cell_type": "code",
   "execution_count": 89,
   "metadata": {
    "collapsed": true
   },
   "outputs": [],
   "source": [
    "import pandas as pd\n",
    "import seaborn as sns\n",
    "\n",
    "# Загрузка датасета\n",
    "df = sns.load_dataset('planets')"
   ]
  },
  {
   "cell_type": "markdown",
   "source": [
    "### Анализ датасета"
   ],
   "metadata": {
    "collapsed": false
   }
  },
  {
   "cell_type": "code",
   "execution_count": 90,
   "outputs": [
    {
     "name": "stdout",
     "output_type": "stream",
     "text": [
      "Первые 10 строк\n",
      "            method  number  orbital_period   mass  distance  year\n",
      "0  Radial Velocity       1         269.300   7.10     77.40  2006\n",
      "1  Radial Velocity       1         874.774   2.21     56.95  2008\n",
      "2  Radial Velocity       1         763.000   2.60     19.84  2011\n",
      "3  Radial Velocity       1         326.030  19.40    110.62  2007\n",
      "4  Radial Velocity       1         516.220  10.50    119.47  2009\n",
      "5  Radial Velocity       1         185.840   4.80     76.39  2008\n",
      "6  Radial Velocity       1        1773.400   4.64     18.15  2002\n",
      "7  Radial Velocity       1         798.500    NaN     21.41  1996\n",
      "8  Radial Velocity       1         993.300  10.30     73.10  2008\n",
      "9  Radial Velocity       2         452.800   1.99     74.79  2010\n",
      "Информация о структуре\n",
      "<class 'pandas.core.frame.DataFrame'>\n",
      "RangeIndex: 1035 entries, 0 to 1034\n",
      "Data columns (total 6 columns):\n",
      " #   Column          Non-Null Count  Dtype  \n",
      "---  ------          --------------  -----  \n",
      " 0   method          1035 non-null   object \n",
      " 1   number          1035 non-null   int64  \n",
      " 2   orbital_period  992 non-null    float64\n",
      " 3   mass            513 non-null    float64\n",
      " 4   distance        808 non-null    float64\n",
      " 5   year            1035 non-null   int64  \n",
      "dtypes: float64(3), int64(2), object(1)\n",
      "memory usage: 48.6+ KB\n",
      "None\n",
      "Числовые колонки с пропусками\n",
      "method              0\n",
      "number              0\n",
      "orbital_period     43\n",
      "mass              522\n",
      "distance          227\n",
      "year                0\n",
      "dtype: int64\n"
     ]
    }
   ],
   "source": [
    "print('Первые 10 строк')\n",
    "print(df.head(10))\n",
    "print('Информация о структуре')\n",
    "print(df.info())\n",
    "print('Числовые колонки с пропусками')\n",
    "print(df.isnull().sum())"
   ],
   "metadata": {
    "collapsed": false
   }
  },
  {
   "cell_type": "markdown",
   "source": [
    "# 2. Задача №8: Устранение пропусков с помощью моды\n",
    "\n",
    "Колонка \"mass\" имеет пропуски, будем заполнять ее"
   ],
   "metadata": {
    "collapsed": false
   }
  },
  {
   "cell_type": "code",
   "execution_count": 91,
   "outputs": [
    {
     "name": "stdout",
     "output_type": "stream",
     "text": [
      "Пропуски в колонке 'mass' заменены на моду: 1.8\n",
      "Осталось пропусков в 'mass': 0\n"
     ]
    }
   ],
   "source": [
    "# Выбираем произвольную числовую колонку с пропусками\n",
    "target_col = 'mass'\n",
    "\n",
    "# Считаем моду\n",
    "mode_value = df[target_col].mode()[0]\n",
    "\n",
    "print(f\"Пропуски в колонке '{target_col}' заменены на моду: {mode_value}\")\n",
    "\n",
    "# Заполняем пропуски\n",
    "df[target_col] = df[target_col].fillna(mode_value)\n",
    "\n",
    "print(f\"Осталось пропусков в '{target_col}': {df[target_col].isnull().sum()}\")"
   ],
   "metadata": {
    "collapsed": false
   }
  },
  {
   "cell_type": "markdown",
   "source": [
    "### Проверка\n",
    "Изначально в записи номер 7 был пропуск в колонке \"mass\", проверим сейчас"
   ],
   "metadata": {
    "collapsed": false
   }
  },
  {
   "cell_type": "code",
   "execution_count": 92,
   "outputs": [
    {
     "data": {
      "text/plain": "            method  number  orbital_period   mass  distance  year\n0  Radial Velocity       1         269.300   7.10     77.40  2006\n1  Radial Velocity       1         874.774   2.21     56.95  2008\n2  Radial Velocity       1         763.000   2.60     19.84  2011\n3  Radial Velocity       1         326.030  19.40    110.62  2007\n4  Radial Velocity       1         516.220  10.50    119.47  2009\n5  Radial Velocity       1         185.840   4.80     76.39  2008\n6  Radial Velocity       1        1773.400   4.64     18.15  2002\n7  Radial Velocity       1         798.500   1.80     21.41  1996\n8  Radial Velocity       1         993.300  10.30     73.10  2008\n9  Radial Velocity       2         452.800   1.99     74.79  2010",
      "text/html": "<div>\n<style scoped>\n    .dataframe tbody tr th:only-of-type {\n        vertical-align: middle;\n    }\n\n    .dataframe tbody tr th {\n        vertical-align: top;\n    }\n\n    .dataframe thead th {\n        text-align: right;\n    }\n</style>\n<table border=\"1\" class=\"dataframe\">\n  <thead>\n    <tr style=\"text-align: right;\">\n      <th></th>\n      <th>method</th>\n      <th>number</th>\n      <th>orbital_period</th>\n      <th>mass</th>\n      <th>distance</th>\n      <th>year</th>\n    </tr>\n  </thead>\n  <tbody>\n    <tr>\n      <th>0</th>\n      <td>Radial Velocity</td>\n      <td>1</td>\n      <td>269.300</td>\n      <td>7.10</td>\n      <td>77.40</td>\n      <td>2006</td>\n    </tr>\n    <tr>\n      <th>1</th>\n      <td>Radial Velocity</td>\n      <td>1</td>\n      <td>874.774</td>\n      <td>2.21</td>\n      <td>56.95</td>\n      <td>2008</td>\n    </tr>\n    <tr>\n      <th>2</th>\n      <td>Radial Velocity</td>\n      <td>1</td>\n      <td>763.000</td>\n      <td>2.60</td>\n      <td>19.84</td>\n      <td>2011</td>\n    </tr>\n    <tr>\n      <th>3</th>\n      <td>Radial Velocity</td>\n      <td>1</td>\n      <td>326.030</td>\n      <td>19.40</td>\n      <td>110.62</td>\n      <td>2007</td>\n    </tr>\n    <tr>\n      <th>4</th>\n      <td>Radial Velocity</td>\n      <td>1</td>\n      <td>516.220</td>\n      <td>10.50</td>\n      <td>119.47</td>\n      <td>2009</td>\n    </tr>\n    <tr>\n      <th>5</th>\n      <td>Radial Velocity</td>\n      <td>1</td>\n      <td>185.840</td>\n      <td>4.80</td>\n      <td>76.39</td>\n      <td>2008</td>\n    </tr>\n    <tr>\n      <th>6</th>\n      <td>Radial Velocity</td>\n      <td>1</td>\n      <td>1773.400</td>\n      <td>4.64</td>\n      <td>18.15</td>\n      <td>2002</td>\n    </tr>\n    <tr>\n      <th>7</th>\n      <td>Radial Velocity</td>\n      <td>1</td>\n      <td>798.500</td>\n      <td>1.80</td>\n      <td>21.41</td>\n      <td>1996</td>\n    </tr>\n    <tr>\n      <th>8</th>\n      <td>Radial Velocity</td>\n      <td>1</td>\n      <td>993.300</td>\n      <td>10.30</td>\n      <td>73.10</td>\n      <td>2008</td>\n    </tr>\n    <tr>\n      <th>9</th>\n      <td>Radial Velocity</td>\n      <td>2</td>\n      <td>452.800</td>\n      <td>1.99</td>\n      <td>74.79</td>\n      <td>2010</td>\n    </tr>\n  </tbody>\n</table>\n</div>"
     },
     "execution_count": 92,
     "metadata": {},
     "output_type": "execute_result"
    }
   ],
   "source": [
    "df.head(10)"
   ],
   "metadata": {
    "collapsed": false
   }
  },
  {
   "cell_type": "markdown",
   "source": [
    "## Сейчас там вместо NaN число 1.8, значит все успешно заполняется"
   ],
   "metadata": {
    "collapsed": false
   }
  },
  {
   "cell_type": "markdown",
   "source": [
    "# 3. Задача №28: Обнаружение и замена выбросов на основе межквартильного размаха"
   ],
   "metadata": {
    "collapsed": false
   }
  },
  {
   "cell_type": "code",
   "execution_count": 93,
   "outputs": [
    {
     "name": "stdout",
     "output_type": "stream",
     "text": [
      "Статистика до замены выбросов:\n",
      "count    1035.000000\n",
      "mean        2.215436\n",
      "std         2.719594\n",
      "min         0.003600\n",
      "25%         1.285000\n",
      "50%         1.800000\n",
      "75%         1.800000\n",
      "max        25.000000\n",
      "Name: mass, dtype: float64\n",
      "\n",
      "Статистика после замены выбросов:\n",
      "count    1035.000000\n",
      "mean        1.628433\n",
      "std         0.646249\n",
      "min         0.512500\n",
      "25%         1.285000\n",
      "50%         1.800000\n",
      "75%         1.800000\n",
      "max         2.572500\n",
      "Name: mass, dtype: float64\n",
      "Выбросы в 'mass' заменены на границы: [0.5125000000000003, 2.5725]\n"
     ]
    }
   ],
   "source": [
    "# Для колонки \"mass\"\n",
    "col_for_outliers = 'mass'\n",
    "\n",
    "# Вычисление межквартильного размаха (IQR)\n",
    "# Q1 (первый квартиль) — это значение, которое разделяет 25% наименьших данных.\n",
    "Q1 = df[col_for_outliers].quantile(0.25)\n",
    "# Q3 (третий квартиль) — это значение, которое разделяет 25% наибольших данных.\n",
    "Q3 = df[col_for_outliers].quantile(0.75)\n",
    "IQR = Q3 - Q1\n",
    "\n",
    "# Вычисление границ для выбросов\n",
    "lower_bound = Q1 - 1.5 * IQR\n",
    "upper_bound = Q3 + 1.5 * IQR\n",
    "\n",
    "print(\"Статистика до замены выбросов:\")\n",
    "print(df[col_for_outliers].describe())\n",
    "\n",
    "# Применение метода замены выбросов\n",
    "df[col_for_outliers] = df[col_for_outliers].clip(lower=lower_bound, upper=upper_bound)\n",
    "\n",
    "print(\"\\nСтатистика после замены выбросов:\")\n",
    "print(df[col_for_outliers].describe())\n",
    "\n",
    "print(f\"Выбросы в '{col_for_outliers}' заменены на границы: [{lower_bound}, {upper_bound}]\")"
   ],
   "metadata": {
    "collapsed": false
   }
  },
  {
   "cell_type": "markdown",
   "source": [
    "# 4. Построение гистограммы для произвольной числовой колонки"
   ],
   "metadata": {
    "collapsed": false
   }
  },
  {
   "cell_type": "code",
   "execution_count": 94,
   "outputs": [
    {
     "data": {
      "text/plain": "<Figure size 640x480 with 1 Axes>",
      "image/png": "[encoded data removed]"
     },
     "metadata": {},
     "output_type": "display_data"
    }
   ],
   "source": [
    "import matplotlib.pyplot as plt\n",
    "\n",
    "hist_col = target_col  # Или выберите любую\n",
    "plt.hist(df[hist_col].dropna(), bins=20, color='skyblue', edgecolor='black')\n",
    "plt.title(f'Гистограмма колонки: {hist_col}')\n",
    "plt.xlabel(hist_col)\n",
    "plt.ylabel('Частота')\n",
    "plt.grid(True)\n",
    "plt.show()"
   ],
   "metadata": {
    "collapsed": false
   }
  },
  {
   "cell_type": "code",
   "execution_count": 94,
   "outputs": [],
   "source": [],
   "metadata": {
    "collapsed": false
   }
  }
 ],
 "metadata": {
  "kernelspec": {
   "display_name": "Python 3",
   "language": "python",
   "name": "python3"
  },
  "language_info": {
   "codemirror_mode": {
    "name": "ipython",
    "version": 2
   },
   "file_extension": ".py",
   "mimetype": "text/x-python",
   "name": "python",
   "nbconvert_exporter": "python",
   "pygments_lexer": "ipython2",
   "version": "2.7.6"
  }
 },
 "nbformat": 4,
 "nbformat_minor": 0
}
